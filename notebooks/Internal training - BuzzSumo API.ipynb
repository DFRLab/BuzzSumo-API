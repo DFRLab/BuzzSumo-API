{
 "cells": [
  {
   "cell_type": "markdown",
   "metadata": {},
   "source": [
    "### `Internal training - BuzzSumo's API`"
   ]
  },
  {
   "cell_type": "code",
   "execution_count": 1,
   "metadata": {},
   "outputs": [],
   "source": [
    "# warnings\n",
    "import warnings\n",
    "warnings.filterwarnings('ignore')\n",
    "\n",
    "# import modules\n",
    "import pandas as pd\n",
    "import requests\n",
    "import json\n",
    "import os"
   ]
  },
  {
   "cell_type": "code",
   "execution_count": 2,
   "metadata": {},
   "outputs": [],
   "source": [
    "# load API KEY\n",
    "path = os.path.abspath('../config/api_key.json')\n",
    "with open(path) as auth:\n",
    "    api_key = json.load(auth)['api_key']\n",
    "    auth.close()"
   ]
  },
  {
   "cell_type": "code",
   "execution_count": 3,
   "metadata": {},
   "outputs": [],
   "source": [
    "# load parameters\n",
    "params_path = os.path.abspath('../api/endpoints/articles.json')\n",
    "with open(params_path) as file:\n",
    "    params = json.load(file)\n",
    "    file.close()"
   ]
  },
  {
   "cell_type": "code",
   "execution_count": 4,
   "metadata": {},
   "outputs": [],
   "source": [
    "# parameters\n",
    "params['api_key'] = api_key\n",
    "URL = params['url']\n",
    "\n",
    "# deleting URL key -> This will be used as variable instead.\n",
    "del params['url']"
   ]
  },
  {
   "cell_type": "code",
   "execution_count": 6,
   "metadata": {},
   "outputs": [],
   "source": [
    "# request\n",
    "req = requests.request(method='GET', url=URL, params=params)\n",
    "results = req.json()"
   ]
  },
  {
   "cell_type": "code",
   "execution_count": 8,
   "metadata": {},
   "outputs": [
    {
     "data": {
      "text/plain": [
       "{'Server': 'nginx/1.16.1', 'Date': 'Wed, 20 May 2020 03:45:11 GMT', 'Content-Type': 'application/json; charset=utf-8', 'Transfer-Encoding': 'chunked', 'Connection': 'keep-alive', 'Vary': 'Accept-Encoding, Origin', 'X-RateLimit-Reset': '1589946321', 'X-RateLimit-Limit': '10', 'X-RateLimit-Month-Remaining': '98', 'X-RateLimit-Remaining': '9', 'X-UA-Compatible': 'IE=Edge,chrome=1', 'ETag': 'W/\"f7f348a8ce2e9ed9323b0721c0137cad\"', 'Cache-Control': 'max-age=0, private, must-revalidate', 'X-Request-Id': '9319454a8e891902f5e32a5a2ac492ca', 'X-Runtime': '1.206689', 'X-Rack-Cache': 'miss', 'Content-Encoding': 'gzip'}"
      ]
     },
     "execution_count": 8,
     "metadata": {},
     "output_type": "execute_result"
    }
   ],
   "source": [
    "req.headers"
   ]
  },
  {
   "cell_type": "code",
   "execution_count": 14,
   "metadata": {},
   "outputs": [
    {
     "data": {
      "text/plain": [
       "{'Server': 'nginx/1.16.1',\n",
       " 'Date': 'Wed, 20 May 2020 03:45:11 GMT',\n",
       " 'Content-Type': 'application/json; charset=utf-8',\n",
       " 'Transfer-Encoding': 'chunked',\n",
       " 'Connection': 'keep-alive',\n",
       " 'Vary': 'Accept-Encoding, Origin',\n",
       " 'X-RateLimit-Reset': '1589946321',\n",
       " 'X-RateLimit-Limit': '10',\n",
       " 'X-RateLimit-Month-Remaining': '98',\n",
       " 'X-RateLimit-Remaining': '9',\n",
       " 'X-UA-Compatible': 'IE=Edge,chrome=1',\n",
       " 'ETag': 'W/\"f7f348a8ce2e9ed9323b0721c0137cad\"',\n",
       " 'Cache-Control': 'max-age=0, private, must-revalidate',\n",
       " 'X-Request-Id': '9319454a8e891902f5e32a5a2ac492ca',\n",
       " 'X-Runtime': '1.206689',\n",
       " 'X-Rack-Cache': 'miss',\n",
       " 'Content-Encoding': 'gzip'}"
      ]
     },
     "execution_count": 14,
     "metadata": {},
     "output_type": "execute_result"
    }
   ],
   "source": [
    "dict(req.headers)"
   ]
  },
  {
   "cell_type": "code",
   "execution_count": 10,
   "metadata": {},
   "outputs": [
    {
     "data": {
      "text/plain": [
       "dict_keys(['results', 'suggested_language', 'total_pages', 'total_results', 'display_code', 'search_type'])"
      ]
     },
     "execution_count": 10,
     "metadata": {},
     "output_type": "execute_result"
    }
   ],
   "source": [
    "results.keys()"
   ]
  },
  {
   "cell_type": "code",
   "execution_count": 12,
   "metadata": {},
   "outputs": [
    {
     "name": "stdout",
     "output_type": "stream",
     "text": [
      "Number of results --> 46\n"
     ]
    }
   ],
   "source": [
    "total_results = len(results['results'])\n",
    "print (f'Number of results --> {total_results}')"
   ]
  },
  {
   "cell_type": "code",
   "execution_count": null,
   "metadata": {},
   "outputs": [],
   "source": []
  },
  {
   "cell_type": "markdown",
   "metadata": {},
   "source": [
    "### `Matching columns between dataset from BuzzSumo's webapp VS data from BuzzSumo's API`"
   ]
  },
  {
   "attachments": {},
   "cell_type": "markdown",
   "metadata": {},
   "source": [
    "<img src='./test/img_columns.png'>"
   ]
  },
  {
   "cell_type": "code",
   "execution_count": null,
   "metadata": {},
   "outputs": [],
   "source": []
  },
  {
   "cell_type": "markdown",
   "metadata": {},
   "source": [
    "### `Creating dataset`"
   ]
  },
  {
   "cell_type": "code",
   "execution_count": 32,
   "metadata": {},
   "outputs": [
    {
     "data": {
      "text/plain": [
       "(46, 46)"
      ]
     },
     "execution_count": 32,
     "metadata": {},
     "output_type": "execute_result"
    }
   ],
   "source": [
    "dataset = pd.DataFrame(results['results'])\n",
    "dataset.shape"
   ]
  },
  {
   "cell_type": "code",
   "execution_count": 33,
   "metadata": {},
   "outputs": [
    {
     "data": {
      "text/html": [
       "<div>\n",
       "<style scoped>\n",
       "    .dataframe tbody tr th:only-of-type {\n",
       "        vertical-align: middle;\n",
       "    }\n",
       "\n",
       "    .dataframe tbody tr th {\n",
       "        vertical-align: top;\n",
       "    }\n",
       "\n",
       "    .dataframe thead th {\n",
       "        text-align: right;\n",
       "    }\n",
       "</style>\n",
       "<table border=\"1\" class=\"dataframe\">\n",
       "  <thead>\n",
       "    <tr style=\"text-align: right;\">\n",
       "      <th></th>\n",
       "      <th>author_name</th>\n",
       "      <th>youtube_trending_score</th>\n",
       "      <th>alexa_rank</th>\n",
       "      <th>pinterest_shares</th>\n",
       "      <th>num_words</th>\n",
       "      <th>twitter_shares</th>\n",
       "      <th>love_count</th>\n",
       "      <th>language</th>\n",
       "      <th>og_url</th>\n",
       "      <th>video</th>\n",
       "      <th>...</th>\n",
       "      <th>published_date</th>\n",
       "      <th>total_shares</th>\n",
       "      <th>article_types</th>\n",
       "      <th>general_article</th>\n",
       "      <th>how_to_article</th>\n",
       "      <th>infographic</th>\n",
       "      <th>list</th>\n",
       "      <th>what_post</th>\n",
       "      <th>why_post</th>\n",
       "      <th>display_title</th>\n",
       "    </tr>\n",
       "  </thead>\n",
       "  <tbody>\n",
       "    <tr>\n",
       "      <th>0</th>\n",
       "      <td>Fernanda Echavarri</td>\n",
       "      <td>None</td>\n",
       "      <td>7477</td>\n",
       "      <td>3</td>\n",
       "      <td>517</td>\n",
       "      <td>12086</td>\n",
       "      <td>6.0</td>\n",
       "      <td>en</td>\n",
       "      <td>https://www.motherjones.com/coronavirus-update...</td>\n",
       "      <td>0</td>\n",
       "      <td>...</td>\n",
       "      <td>1585009182</td>\n",
       "      <td>34638</td>\n",
       "      <td>[all_content, general_article]</td>\n",
       "      <td>1</td>\n",
       "      <td>0</td>\n",
       "      <td>0</td>\n",
       "      <td>0</td>\n",
       "      <td>0</td>\n",
       "      <td>0</td>\n",
       "      <td>The Most Irresponsible President on the Contin...</td>\n",
       "    </tr>\n",
       "    <tr>\n",
       "      <th>1</th>\n",
       "      <td>Latinus</td>\n",
       "      <td>None</td>\n",
       "      <td>167666</td>\n",
       "      <td>1</td>\n",
       "      <td>53</td>\n",
       "      <td>280</td>\n",
       "      <td>115.0</td>\n",
       "      <td>en</td>\n",
       "      <td>https://latinus.us/2020/02/13/video-trump-noct...</td>\n",
       "      <td>0</td>\n",
       "      <td>...</td>\n",
       "      <td>1581638460</td>\n",
       "      <td>12585</td>\n",
       "      <td>[all_content, general_article]</td>\n",
       "      <td>1</td>\n",
       "      <td>0</td>\n",
       "      <td>0</td>\n",
       "      <td>0</td>\n",
       "      <td>0</td>\n",
       "      <td>0</td>\n",
       "      <td>Video &lt;strong class='highlight'&gt;Trump&lt;/strong&gt;...</td>\n",
       "    </tr>\n",
       "    <tr>\n",
       "      <th>2</th>\n",
       "      <td>David Agren</td>\n",
       "      <td>None</td>\n",
       "      <td>135</td>\n",
       "      <td>0</td>\n",
       "      <td>868</td>\n",
       "      <td>690</td>\n",
       "      <td>5.0</td>\n",
       "      <td>en</td>\n",
       "      <td>http://www.theguardian.com/world/2020/jan/26/m...</td>\n",
       "      <td>0</td>\n",
       "      <td>...</td>\n",
       "      <td>1580032800</td>\n",
       "      <td>4007</td>\n",
       "      <td>[all_content, general_article]</td>\n",
       "      <td>1</td>\n",
       "      <td>0</td>\n",
       "      <td>0</td>\n",
       "      <td>0</td>\n",
       "      <td>0</td>\n",
       "      <td>0</td>\n",
       "      <td>'Mexico has become &lt;strong class='highlight'&gt;T...</td>\n",
       "    </tr>\n",
       "    <tr>\n",
       "      <th>3</th>\n",
       "      <td>Carlos Loret De Mola</td>\n",
       "      <td>None</td>\n",
       "      <td>236394</td>\n",
       "      <td>0</td>\n",
       "      <td>326</td>\n",
       "      <td>52</td>\n",
       "      <td>28.0</td>\n",
       "      <td>en</td>\n",
       "      <td>https://www.carlosloret.com/2020/01/amlo-my-br...</td>\n",
       "      <td>0</td>\n",
       "      <td>...</td>\n",
       "      <td>1580083200</td>\n",
       "      <td>2853</td>\n",
       "      <td>[all_content, general_article]</td>\n",
       "      <td>1</td>\n",
       "      <td>0</td>\n",
       "      <td>0</td>\n",
       "      <td>0</td>\n",
       "      <td>0</td>\n",
       "      <td>0</td>\n",
       "      <td>“&lt;strong class='highlight'&gt;AMLO&lt;/strong&gt;, my b...</td>\n",
       "    </tr>\n",
       "    <tr>\n",
       "      <th>4</th>\n",
       "      <td>Kristinn Taylor</td>\n",
       "      <td>None</td>\n",
       "      <td>7246</td>\n",
       "      <td>0</td>\n",
       "      <td>535</td>\n",
       "      <td>1224</td>\n",
       "      <td>26.0</td>\n",
       "      <td>en</td>\n",
       "      <td>https://www.thegatewaypundit.com/2020/02/poll-...</td>\n",
       "      <td>0</td>\n",
       "      <td>...</td>\n",
       "      <td>1580844657</td>\n",
       "      <td>2416</td>\n",
       "      <td>[all_content, general_article]</td>\n",
       "      <td>1</td>\n",
       "      <td>0</td>\n",
       "      <td>0</td>\n",
       "      <td>0</td>\n",
       "      <td>0</td>\n",
       "      <td>0</td>\n",
       "      <td>Poll Stunner: Super Majority of Mexicans Suppo...</td>\n",
       "    </tr>\n",
       "  </tbody>\n",
       "</table>\n",
       "<p>5 rows × 46 columns</p>\n",
       "</div>"
      ],
      "text/plain": [
       "            author_name youtube_trending_score  alexa_rank  pinterest_shares  \\\n",
       "0    Fernanda Echavarri                   None        7477                 3   \n",
       "1               Latinus                   None      167666                 1   \n",
       "2           David Agren                   None         135                 0   \n",
       "3  Carlos Loret De Mola                   None      236394                 0   \n",
       "4       Kristinn Taylor                   None        7246                 0   \n",
       "\n",
       "   num_words  twitter_shares  love_count language  \\\n",
       "0        517           12086         6.0       en   \n",
       "1         53             280       115.0       en   \n",
       "2        868             690         5.0       en   \n",
       "3        326              52        28.0       en   \n",
       "4        535            1224        26.0       en   \n",
       "\n",
       "                                              og_url  video  ...  \\\n",
       "0  https://www.motherjones.com/coronavirus-update...      0  ...   \n",
       "1  https://latinus.us/2020/02/13/video-trump-noct...      0  ...   \n",
       "2  http://www.theguardian.com/world/2020/jan/26/m...      0  ...   \n",
       "3  https://www.carlosloret.com/2020/01/amlo-my-br...      0  ...   \n",
       "4  https://www.thegatewaypundit.com/2020/02/poll-...      0  ...   \n",
       "\n",
       "  published_date  total_shares                   article_types  \\\n",
       "0     1585009182         34638  [all_content, general_article]   \n",
       "1     1581638460         12585  [all_content, general_article]   \n",
       "2     1580032800          4007  [all_content, general_article]   \n",
       "3     1580083200          2853  [all_content, general_article]   \n",
       "4     1580844657          2416  [all_content, general_article]   \n",
       "\n",
       "   general_article how_to_article infographic  list  what_post  why_post  \\\n",
       "0                1              0           0     0          0         0   \n",
       "1                1              0           0     0          0         0   \n",
       "2                1              0           0     0          0         0   \n",
       "3                1              0           0     0          0         0   \n",
       "4                1              0           0     0          0         0   \n",
       "\n",
       "                                       display_title  \n",
       "0  The Most Irresponsible President on the Contin...  \n",
       "1  Video <strong class='highlight'>Trump</strong>...  \n",
       "2  'Mexico has become <strong class='highlight'>T...  \n",
       "3  “<strong class='highlight'>AMLO</strong>, my b...  \n",
       "4  Poll Stunner: Super Majority of Mexicans Suppo...  \n",
       "\n",
       "[5 rows x 46 columns]"
      ]
     },
     "execution_count": 33,
     "metadata": {},
     "output_type": "execute_result"
    }
   ],
   "source": [
    "dataset.head()"
   ]
  },
  {
   "cell_type": "code",
   "execution_count": 34,
   "metadata": {},
   "outputs": [],
   "source": [
    "dataset['published_date'] = dataset['published_date'].apply(lambda x: pd.Timestamp.fromtimestamp(x))"
   ]
  },
  {
   "cell_type": "code",
   "execution_count": 35,
   "metadata": {},
   "outputs": [
    {
     "data": {
      "text/html": [
       "<div>\n",
       "<style scoped>\n",
       "    .dataframe tbody tr th:only-of-type {\n",
       "        vertical-align: middle;\n",
       "    }\n",
       "\n",
       "    .dataframe tbody tr th {\n",
       "        vertical-align: top;\n",
       "    }\n",
       "\n",
       "    .dataframe thead th {\n",
       "        text-align: right;\n",
       "    }\n",
       "</style>\n",
       "<table border=\"1\" class=\"dataframe\">\n",
       "  <thead>\n",
       "    <tr style=\"text-align: right;\">\n",
       "      <th></th>\n",
       "      <th>author_name</th>\n",
       "      <th>youtube_trending_score</th>\n",
       "      <th>alexa_rank</th>\n",
       "      <th>pinterest_shares</th>\n",
       "      <th>num_words</th>\n",
       "      <th>twitter_shares</th>\n",
       "      <th>love_count</th>\n",
       "      <th>language</th>\n",
       "      <th>og_url</th>\n",
       "      <th>video</th>\n",
       "      <th>...</th>\n",
       "      <th>published_date</th>\n",
       "      <th>total_shares</th>\n",
       "      <th>article_types</th>\n",
       "      <th>general_article</th>\n",
       "      <th>how_to_article</th>\n",
       "      <th>infographic</th>\n",
       "      <th>list</th>\n",
       "      <th>what_post</th>\n",
       "      <th>why_post</th>\n",
       "      <th>display_title</th>\n",
       "    </tr>\n",
       "  </thead>\n",
       "  <tbody>\n",
       "    <tr>\n",
       "      <th>0</th>\n",
       "      <td>Fernanda Echavarri</td>\n",
       "      <td>None</td>\n",
       "      <td>7477</td>\n",
       "      <td>3</td>\n",
       "      <td>517</td>\n",
       "      <td>12086</td>\n",
       "      <td>6.0</td>\n",
       "      <td>en</td>\n",
       "      <td>https://www.motherjones.com/coronavirus-update...</td>\n",
       "      <td>0</td>\n",
       "      <td>...</td>\n",
       "      <td>2020-03-23 19:19:42</td>\n",
       "      <td>34638</td>\n",
       "      <td>[all_content, general_article]</td>\n",
       "      <td>1</td>\n",
       "      <td>0</td>\n",
       "      <td>0</td>\n",
       "      <td>0</td>\n",
       "      <td>0</td>\n",
       "      <td>0</td>\n",
       "      <td>The Most Irresponsible President on the Contin...</td>\n",
       "    </tr>\n",
       "  </tbody>\n",
       "</table>\n",
       "<p>1 rows × 46 columns</p>\n",
       "</div>"
      ],
      "text/plain": [
       "          author_name youtube_trending_score  alexa_rank  pinterest_shares  \\\n",
       "0  Fernanda Echavarri                   None        7477                 3   \n",
       "\n",
       "   num_words  twitter_shares  love_count language  \\\n",
       "0        517           12086         6.0       en   \n",
       "\n",
       "                                              og_url  video  ...  \\\n",
       "0  https://www.motherjones.com/coronavirus-update...      0  ...   \n",
       "\n",
       "       published_date  total_shares                   article_types  \\\n",
       "0 2020-03-23 19:19:42         34638  [all_content, general_article]   \n",
       "\n",
       "   general_article how_to_article infographic  list  what_post  why_post  \\\n",
       "0                1              0           0     0          0         0   \n",
       "\n",
       "                                       display_title  \n",
       "0  The Most Irresponsible President on the Contin...  \n",
       "\n",
       "[1 rows x 46 columns]"
      ]
     },
     "execution_count": 35,
     "metadata": {},
     "output_type": "execute_result"
    }
   ],
   "source": [
    "dataset.head(1)"
   ]
  },
  {
   "cell_type": "code",
   "execution_count": 39,
   "metadata": {},
   "outputs": [
    {
     "data": {
      "text/plain": [
       "0      37722437.0\n",
       "1     292010775.0\n",
       "2     144722898.0\n",
       "3     144134352.0\n",
       "4     146184070.0\n",
       "5             NaN\n",
       "6             NaN\n",
       "7             NaN\n",
       "8             NaN\n",
       "9     233982739.0\n",
       "10            NaN\n",
       "11            NaN\n",
       "12            NaN\n",
       "13            NaN\n",
       "14            NaN\n",
       "15    144565498.0\n",
       "16            NaN\n",
       "17            NaN\n",
       "18    233982739.0\n",
       "19            NaN\n",
       "20            NaN\n",
       "21            NaN\n",
       "22            NaN\n",
       "23            NaN\n",
       "24            NaN\n",
       "25    233982739.0\n",
       "26            NaN\n",
       "27            NaN\n",
       "28    146463089.0\n",
       "29            NaN\n",
       "30            NaN\n",
       "31            NaN\n",
       "32            NaN\n",
       "33    256998148.0\n",
       "34            NaN\n",
       "35     25294901.0\n",
       "36            NaN\n",
       "37            NaN\n",
       "38            NaN\n",
       "39            NaN\n",
       "40            NaN\n",
       "41            NaN\n",
       "42            NaN\n",
       "43    146880479.0\n",
       "44            NaN\n",
       "45    148012395.0\n",
       "Name: twitter_user_id, dtype: float64"
      ]
     },
     "execution_count": 39,
     "metadata": {},
     "output_type": "execute_result"
    }
   ],
   "source": [
    "dataset['twitter_user_id']"
   ]
  },
  {
   "cell_type": "code",
   "execution_count": null,
   "metadata": {},
   "outputs": [],
   "source": []
  }
 ],
 "metadata": {
  "kernelspec": {
   "display_name": "Python 3",
   "language": "python",
   "name": "python3"
  },
  "language_info": {
   "codemirror_mode": {
    "name": "ipython",
    "version": 3
   },
   "file_extension": ".py",
   "mimetype": "text/x-python",
   "name": "python",
   "nbconvert_exporter": "python",
   "pygments_lexer": "ipython3",
   "version": "3.7.3"
  }
 },
 "nbformat": 4,
 "nbformat_minor": 2
}
